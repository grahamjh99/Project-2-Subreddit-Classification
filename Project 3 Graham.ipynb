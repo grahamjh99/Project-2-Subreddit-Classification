{
 "cells": [
  {
   "cell_type": "code",
   "execution_count": 1,
   "id": "623fc10d-3881-4562-9dab-5a9a6cb0942d",
   "metadata": {},
   "outputs": [],
   "source": [
    "import praw\n",
    "import pandas as pd\n",
    "import numpy as np \n",
    "from dotenv import load_dotenv\n",
    "import os\n",
    "from sklearn.model_selection import train_test_split"
   ]
  },
  {
   "cell_type": "code",
   "execution_count": 2,
   "id": "78ff5325-3d18-432d-b0d0-3d9b74d7b363",
   "metadata": {},
   "outputs": [],
   "source": [
    "# Load the environment variables from the .env file\n",
    "load_dotenv('Reddit Info.env')\n",
    "\n",
    "# Access the env files\n",
    "secret_key = os.getenv('secret_key')\n",
    "reddit_username = os.getenv('reddit_username')\n",
    "reddit_password = os.getenv('reddit_password')\n",
    "personal_use_key = os.getenv('personal_use_key')"
   ]
  },
  {
   "cell_type": "code",
   "execution_count": 3,
   "id": "d0c40dce-db14-4f84-a096-14af4d285f9b",
   "metadata": {},
   "outputs": [
    {
     "name": "stdout",
     "output_type": "stream",
     "text": [
      "False\n"
     ]
    }
   ],
   "source": [
    "reddit = praw.Reddit(\n",
    "    client_id= personal_use_key,\n",
    "    client_secret = secret_key,\n",
    "    password= reddit_password,\n",
    "    user_agent = \"Class Project 3 (by u/glittering-pack-9564)\",\n",
    "    username = reddit_username,\n",
    ")\n",
    "\n",
    "# checking to make sure it worked\n",
    "# should be false\n",
    "print(reddit.read_only)"
   ]
  },
  {
   "cell_type": "code",
   "execution_count": 4,
   "id": "c125eba1-e90d-4fc5-9ed0-a54eca53abd4",
   "metadata": {},
   "outputs": [],
   "source": [
    "# Choosing subreddit and getting posts\n",
    "subreddit_wallstreetbets = reddit.subreddit('wallstreetbets')\n",
    "subreddit_stocks = reddit.subreddit('stocks')\n",
    "posts_wallstreetbets = subreddit_wallstreetbets.new(limit=100)\n",
    "posts_stocks = subreddit_stocks.new(limit=100)\n",
    "\n",
    "\n",
    "data_wallstreetbets = []\n",
    "for post in posts_wallstreetbets:\n",
    "    data_wallstreetbets.append([post.created_utc, post.title, post.selftext, post.subreddit])\n",
    "    \n",
    "data_stocks = []\n",
    "for post in posts_stocks:\n",
    "    data_stocks.append([post.created_utc, post.title, post.selftext, post.subreddit])\n",
    "\n",
    "# Turn into a dataframe\n",
    "wallstreetbets = pd.DataFrame(data_wallstreetbets, columns = ['created_utc', 'title', 'self_text', 'subreddit'])\n",
    "stocks = pd.DataFrame(data_stocks, columns = ['created_utc', 'title', 'self_text', 'subreddit'])"
   ]
  },
  {
   "cell_type": "code",
   "execution_count": null,
   "id": "107117d0-7a7e-418a-a8ef-d079f5f0d99e",
   "metadata": {},
   "outputs": [],
   "source": [
    "# saves data to csv and appends new data\n",
    "wallstreetbets.to_csv('./data/Wallstreetbets data.csv',\n",
    "                     mode = 'a',\n",
    "                     index = False,\n",
    "                     header = False)\n",
    "\n",
    "stocks.to_csv('./data/stocks data.csv',\n",
    "                     mode = 'a',\n",
    "                     index = False,\n",
    "                     header = False)\n",
    "\n",
    "# gets back all the data with the new stuff\n",
    "wallstreetbets = pd.read_csv('./data/Wallstreetbets data.csv')\n",
    "stocks = pd.read_csv('./data/Stocks data.csv')"
   ]
  },
  {
   "cell_type": "code",
   "execution_count": 5,
   "id": "c53226d6-bdb8-43d2-a843-96f0e4a6a1fe",
   "metadata": {},
   "outputs": [
    {
     "data": {
      "text/plain": [
       "(100, 4)"
      ]
     },
     "execution_count": 5,
     "metadata": {},
     "output_type": "execute_result"
    }
   ],
   "source": [
    "wallstreetbets.shape"
   ]
  },
  {
   "cell_type": "code",
   "execution_count": 6,
   "id": "351e0299-7572-4390-a597-ccdff36e43bf",
   "metadata": {},
   "outputs": [
    {
     "data": {
      "text/html": [
       "<div>\n",
       "<style scoped>\n",
       "    .dataframe tbody tr th:only-of-type {\n",
       "        vertical-align: middle;\n",
       "    }\n",
       "\n",
       "    .dataframe tbody tr th {\n",
       "        vertical-align: top;\n",
       "    }\n",
       "\n",
       "    .dataframe thead th {\n",
       "        text-align: right;\n",
       "    }\n",
       "</style>\n",
       "<table border=\"1\" class=\"dataframe\">\n",
       "  <thead>\n",
       "    <tr style=\"text-align: right;\">\n",
       "      <th></th>\n",
       "      <th>created_utc</th>\n",
       "      <th>title</th>\n",
       "      <th>self_text</th>\n",
       "      <th>subreddit</th>\n",
       "    </tr>\n",
       "  </thead>\n",
       "  <tbody>\n",
       "    <tr>\n",
       "      <th>0</th>\n",
       "      <td>1.731877e+09</td>\n",
       "      <td>What Are Your Moves Tomorrow, November 18, 2024</td>\n",
       "      <td>This post contains content not supported on ol...</td>\n",
       "      <td>wallstreetbets</td>\n",
       "    </tr>\n",
       "    <tr>\n",
       "      <th>1</th>\n",
       "      <td>1.731872e+09</td>\n",
       "      <td>CGC and ACRHF losing license in NYS</td>\n",
       "      <td>There is a huge amount of pending legal action...</td>\n",
       "      <td>wallstreetbets</td>\n",
       "    </tr>\n",
       "    <tr>\n",
       "      <th>2</th>\n",
       "      <td>1.731872e+09</td>\n",
       "      <td>Last week was one of my craziest weeks</td>\n",
       "      <td>RKLB, ASTS, COIN, and LUNR I was up over 100% ...</td>\n",
       "      <td>wallstreetbets</td>\n",
       "    </tr>\n",
       "    <tr>\n",
       "      <th>3</th>\n",
       "      <td>1.731872e+09</td>\n",
       "      <td>MSTR, hopeful or hopeless?</td>\n",
       "      <td>Fellow regards, should I sit on this as origin...</td>\n",
       "      <td>wallstreetbets</td>\n",
       "    </tr>\n",
       "    <tr>\n",
       "      <th>4</th>\n",
       "      <td>1.731870e+09</td>\n",
       "      <td>All is not well with this economy, yet stocks ...</td>\n",
       "      <td>This euphoria is strangely reminiscent of some...</td>\n",
       "      <td>wallstreetbets</td>\n",
       "    </tr>\n",
       "  </tbody>\n",
       "</table>\n",
       "</div>"
      ],
      "text/plain": [
       "    created_utc                                              title  \\\n",
       "0  1.731877e+09    What Are Your Moves Tomorrow, November 18, 2024   \n",
       "1  1.731872e+09                CGC and ACRHF losing license in NYS   \n",
       "2  1.731872e+09             Last week was one of my craziest weeks   \n",
       "3  1.731872e+09                        MSTR, hopeful or hopeless?    \n",
       "4  1.731870e+09  All is not well with this economy, yet stocks ...   \n",
       "\n",
       "                                           self_text       subreddit  \n",
       "0  This post contains content not supported on ol...  wallstreetbets  \n",
       "1  There is a huge amount of pending legal action...  wallstreetbets  \n",
       "2  RKLB, ASTS, COIN, and LUNR I was up over 100% ...  wallstreetbets  \n",
       "3  Fellow regards, should I sit on this as origin...  wallstreetbets  \n",
       "4  This euphoria is strangely reminiscent of some...  wallstreetbets  "
      ]
     },
     "execution_count": 6,
     "metadata": {},
     "output_type": "execute_result"
    }
   ],
   "source": [
    "wallstreetbets.head()"
   ]
  },
  {
   "cell_type": "code",
   "execution_count": 7,
   "id": "fc777225-bd3c-49ae-8a61-b6d7b9294743",
   "metadata": {},
   "outputs": [
    {
     "data": {
      "text/html": [
       "<div>\n",
       "<style scoped>\n",
       "    .dataframe tbody tr th:only-of-type {\n",
       "        vertical-align: middle;\n",
       "    }\n",
       "\n",
       "    .dataframe tbody tr th {\n",
       "        vertical-align: top;\n",
       "    }\n",
       "\n",
       "    .dataframe thead th {\n",
       "        text-align: right;\n",
       "    }\n",
       "</style>\n",
       "<table border=\"1\" class=\"dataframe\">\n",
       "  <thead>\n",
       "    <tr style=\"text-align: right;\">\n",
       "      <th></th>\n",
       "      <th>created_utc</th>\n",
       "      <th>title</th>\n",
       "      <th>self_text</th>\n",
       "      <th>subreddit</th>\n",
       "    </tr>\n",
       "  </thead>\n",
       "  <tbody>\n",
       "    <tr>\n",
       "      <th>0</th>\n",
       "      <td>1.731880e+09</td>\n",
       "      <td>Most Efficient Way to Track Public Trades?</td>\n",
       "      <td>Hey everyone,\\n\\nI'm trying to find a good **F...</td>\n",
       "      <td>stocks</td>\n",
       "    </tr>\n",
       "    <tr>\n",
       "      <th>1</th>\n",
       "      <td>1.731873e+09</td>\n",
       "      <td>New Nvidia AI chips overheating in servers, th...</td>\n",
       "      <td>Nov 17 (Reuters) - Nvidia's new Blackwell AI C...</td>\n",
       "      <td>stocks</td>\n",
       "    </tr>\n",
       "    <tr>\n",
       "      <th>2</th>\n",
       "      <td>1.731860e+09</td>\n",
       "      <td>Are redditors good at picking stocks? An analysis</td>\n",
       "      <td>Spoiler alert: Redditors are not very good at ...</td>\n",
       "      <td>stocks</td>\n",
       "    </tr>\n",
       "    <tr>\n",
       "      <th>3</th>\n",
       "      <td>1.731851e+09</td>\n",
       "      <td>Is PLTR in bubble territory?</td>\n",
       "      <td>I don’t own any so this question just stems fr...</td>\n",
       "      <td>stocks</td>\n",
       "    </tr>\n",
       "    <tr>\n",
       "      <th>4</th>\n",
       "      <td>1.731807e+09</td>\n",
       "      <td>Chris Wright - CEO of Liberty Energy and board...</td>\n",
       "      <td>[Link to the article](https://finance.yahoo.co...</td>\n",
       "      <td>stocks</td>\n",
       "    </tr>\n",
       "  </tbody>\n",
       "</table>\n",
       "</div>"
      ],
      "text/plain": [
       "    created_utc                                              title  \\\n",
       "0  1.731880e+09         Most Efficient Way to Track Public Trades?   \n",
       "1  1.731873e+09  New Nvidia AI chips overheating in servers, th...   \n",
       "2  1.731860e+09  Are redditors good at picking stocks? An analysis   \n",
       "3  1.731851e+09                       Is PLTR in bubble territory?   \n",
       "4  1.731807e+09  Chris Wright - CEO of Liberty Energy and board...   \n",
       "\n",
       "                                           self_text subreddit  \n",
       "0  Hey everyone,\\n\\nI'm trying to find a good **F...    stocks  \n",
       "1  Nov 17 (Reuters) - Nvidia's new Blackwell AI C...    stocks  \n",
       "2  Spoiler alert: Redditors are not very good at ...    stocks  \n",
       "3  I don’t own any so this question just stems fr...    stocks  \n",
       "4  [Link to the article](https://finance.yahoo.co...    stocks  "
      ]
     },
     "execution_count": 7,
     "metadata": {},
     "output_type": "execute_result"
    }
   ],
   "source": [
    "stocks.head()"
   ]
  },
  {
   "cell_type": "code",
   "execution_count": 8,
   "id": "96c1e83e-7bbe-49b5-bef7-b8f762b41bb9",
   "metadata": {},
   "outputs": [
    {
     "data": {
      "text/plain": [
       "(100, 4)"
      ]
     },
     "execution_count": 8,
     "metadata": {},
     "output_type": "execute_result"
    }
   ],
   "source": [
    "stocks.shape"
   ]
  },
  {
   "cell_type": "code",
   "execution_count": null,
   "id": "c3707a32-1052-428b-9b3e-66e1df36f777",
   "metadata": {},
   "outputs": [],
   "source": []
  }
 ],
 "metadata": {
  "kernelspec": {
   "display_name": "Python 3 (ipykernel)",
   "language": "python",
   "name": "python3"
  },
  "language_info": {
   "codemirror_mode": {
    "name": "ipython",
    "version": 3
   },
   "file_extension": ".py",
   "mimetype": "text/x-python",
   "name": "python",
   "nbconvert_exporter": "python",
   "pygments_lexer": "ipython3",
   "version": "3.12.4"
  }
 },
 "nbformat": 4,
 "nbformat_minor": 5
}
