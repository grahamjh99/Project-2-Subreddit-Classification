


pip install praw
import praw














reddit = praw.Reddit(
    client_id='YOUR_CLIENT_ID',
    client_secret='YOUR_CLIENT_SECRET',
    user_agent='YOUR_USER_AGENT',
    username='YOUR_REDDIT_USERNAME',
    password='YOUR_REDDIT_PASSWORD'
)














# Below is JUST an example of how you can use PRAW

# Choose your subreddit
subreddit = reddit.subreddit('boardgames')

# Adjust the limit as needed -- Note that this will grab the 25 most recent posts
posts = subreddit.new(limit=25)





import pandas as pd

data = []
for post in posts:
    data.append([post.created_utc, post.title, post.selftext, post.subreddit])

# Turn into a dataframe
boardgames = pd.DataFrame(data, columns = ['created_utc', 'title', 'self_text', 'subreddit'])
boardgames.head()









