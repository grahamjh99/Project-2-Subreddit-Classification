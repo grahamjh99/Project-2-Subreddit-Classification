import praw
import pandas as pd
import numpy as np 
from dotenv import load_dotenv
import os


# Load the environment variables from the .env file
load_dotenv('Reddit Info.env')

# Access the env files
secret_key = os.getenv('secret_key')
username = os.getenv('username')
reddit_password = os.getenv('reddit_password')
personal_use_key = os.getenv('personal_use_key')


reddit = praw.Reddit(
    client_id= personal_use_key,
    client_secret = secret_key,
    password= reddit_password,
    user_agent = "script:project.glittering-pack-9564:v1.0.0 (by u/glittering-pack-9564)",
    username = username,
)

# checking to make sure it worked
# should be false
print(reddit.read_only)


# Choosing subreddit and getting posts
subreddit_wallstreetbets = reddit.subreddit('wallstreetbets')
subreddit_stocks = reddit.subreddit('stocks')
posts_wallstreetbets = subreddit_wallstreetbets.new(limit=100)
posts_stocks = subreddit_stocks.new(limit=100)

data_wallstreetbets = []
for post in posts_wallstreetbets:
    data_wallstreetbets.append([post.created_utc, post.title, post.selftext, post.subreddit.display_name])

data_stocks = []
for post in posts_stocks:
    data_stocks.append([post.created_utc, post.title, post.selftext, post.subreddit.display_name])

# Turn into a dataframe
wallstreetbets = pd.DataFrame(data_wallstreetbets, columns = ['created_utc', 'title', 'self_text', 'subreddit'])
stocks = pd.DataFrame(data_stocks, columns = ['created_utc', 'title', 'self_text', 'subreddit'])



