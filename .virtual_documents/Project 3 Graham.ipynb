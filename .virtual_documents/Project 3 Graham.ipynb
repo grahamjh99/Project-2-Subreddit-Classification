import praw
import pandas as pd
import numpy as np 
from dotenv import load_dotenv
import os
from sklearn.model_selection import train_test_split


# Load the environment variables from the .env file
load_dotenv('Reddit Info.env')

# Access the env files
secret_key = os.getenv('secret_key')
reddit_username = os.getenv('reddit_username')
reddit_password = os.getenv('reddit_password')
personal_use_key = os.getenv('personal_use_key')


reddit = praw.Reddit(
    client_id= personal_use_key,
    client_secret = secret_key,
    password= reddit_password,
    user_agent = "Class Project 3 (by u/glittering-pack-9564)",
    username = reddit_username,
)

# checking to make sure it worked
# should be false
print(reddit.read_only)


# Choosing subreddit and getting posts
subreddit_wallstreetbets = reddit.subreddit('wallstreetbets')
subreddit_stocks = reddit.subreddit('stocks')
posts_wallstreetbets = subreddit_wallstreetbets.new(limit=100)
posts_stocks = subreddit_stocks.new(limit=100)


data_wallstreetbets = []
for post in posts_wallstreetbets:
    data_wallstreetbets.append([post.created_utc, post.title, post.selftext, post.subreddit])
    
data_stocks = []
for post in posts_stocks:
    data_stocks.append([post.created_utc, post.title, post.selftext, post.subreddit])

# Turn into a dataframe
wallstreetbets = pd.DataFrame(data_wallstreetbets, columns = ['created_utc', 'title', 'self_text', 'subreddit'])
stocks = pd.DataFrame(data_stocks, columns = ['created_utc', 'title', 'self_text', 'subreddit'])


# saves data to csv and appends new data
wallstreetbets.to_csv('./data/Wallstreetbets data.csv',
                     mode = 'a',
                     index = False,
                     header = False)

stocks.to_csv('./data/stocks data.csv',
                     mode = 'a',
                     index = False,
                     header = False)

# gets back all the data with the new stuff
wallstreetbets = pd.read_csv('./data/Wallstreetbets data.csv')
stocks = pd.read_csv('./data/Stocks data.csv')


wallstreetbets.shape


wallstreetbets.head()


stocks.head()


stocks.shape



